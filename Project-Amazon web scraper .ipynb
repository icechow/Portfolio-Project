{
 "cells": [
  {
   "cell_type": "code",
   "execution_count": 1,
   "metadata": {},
   "outputs": [],
   "source": [
    "from bs4 import BeautifulSoup\n",
    "import requests\n",
    "import time\n",
    "import datetime\n",
    "\n",
    "import smtplib"
   ]
  },
  {
   "cell_type": "code",
   "execution_count": 17,
   "metadata": {},
   "outputs": [
    {
     "name": "stdout",
     "output_type": "stream",
     "text": [
      "\n",
      "                   Funny Got Data MIS Data Systems Business Analyst T-Shirt\n",
      "                  \n",
      "\n",
      "                    $16.99\n",
      "                   \n"
     ]
    }
   ],
   "source": [
    "#Connect to Website and pull in data\n",
    "\n",
    "URL = 'https://www.amazon.com/Funny-Data-Systems-Business-Analyst/dp/B07FNW9FGJ/ref=sr_1_3?dchild=1&keywords=data%2Banalyst%2Btshirt&qid=1626655184&sr=8-3&customId=B0752XJYNL&th=1'\n",
    "\n",
    "headers = {\"User-Agent\":\"Mozilla/5.0 (Windows NT 10.0; Win64; x64) AppleWebKit/537.36 (KHTML, like Gecko) Chrome/92.0.4515.159 Safari/537.36 (KHTML, like Gecko) Chrome/78.0.3904.108 Safari/537.36\", \"Accept-Encoding\":\"gzip, deflate\", \"Accept\":\"text/html,application/xhtml+xml,application/xml;q=0.9,*/*;q=0.8\", \"DNT\":\"1\",\"Connection\":\"close\", \"Upgrade-Insecure-Requests\":\"1\"}\n",
    "           \n",
    "page = requests.get(URL, headers=headers)         \n",
    "\n",
    "soup1 = BeautifulSoup(page.content, \"html.parser\")\n",
    "\n",
    "soup2 =BeautifulSoup(soup1.prettify(), \"html.parser\")\n",
    "\n",
    "title = soup2.find(id='productTitle').get_text()\n",
    "\n",
    "price = soup2.find(id='priceblock_ourprice').get_text()\n",
    "\n",
    "print(title)\n",
    "print(price)"
   ]
  },
  {
   "cell_type": "code",
   "execution_count": 18,
   "metadata": {},
   "outputs": [
    {
     "name": "stdout",
     "output_type": "stream",
     "text": [
      "Funny Got Data MIS Data Systems Business Analyst T-Shirt\n",
      "16.99\n"
     ]
    }
   ],
   "source": [
    "title = title.strip()\n",
    "price = price.strip()[1:]\n",
    "\n",
    "print(title)\n",
    "print(price)"
   ]
  },
  {
   "cell_type": "code",
   "execution_count": 22,
   "metadata": {},
   "outputs": [
    {
     "name": "stdout",
     "output_type": "stream",
     "text": [
      "2021-09-07\n"
     ]
    }
   ],
   "source": [
    "import datetime\n",
    "today = datetime.date.today()\n",
    "print(today)"
   ]
  },
  {
   "cell_type": "code",
   "execution_count": 23,
   "metadata": {},
   "outputs": [],
   "source": [
    "import csv\n",
    "\n",
    "header = ['Title', 'Price', 'Date']\n",
    "data = [title, price, today]\n",
    "\n",
    "with open('AmazonWebScraperDataset.csv','w', newline='', encoding='UTF8') as f:\n",
    "    writer = csv.writer(f)\n",
    "    writer.writerow(header)\n",
    "    writer.writerow(data)\n",
    "    "
   ]
  },
  {
   "cell_type": "code",
   "execution_count": 28,
   "metadata": {},
   "outputs": [
    {
     "name": "stdout",
     "output_type": "stream",
     "text": [
      "                                               Title  Price        Date\n",
      "0  Funny Got Data MIS Data Systems Business Analy...  16.99  2021-09-07\n",
      "1  Funny Got Data MIS Data Systems Business Analy...  16.99  2021-09-07\n"
     ]
    }
   ],
   "source": [
    "import pandas as pd\n",
    "df = pd.read_csv('D:\\Ice\\python_udemy\\Portfolio Project\\AmazonWebScraperDataset.csv')\n",
    "print(df)"
   ]
  },
  {
   "cell_type": "code",
   "execution_count": 27,
   "metadata": {},
   "outputs": [],
   "source": [
    "# Now we are appending data to the csv\n",
    "\n",
    "with open('AmazonWebScraperDataset.csv','a+', newline='', encoding='UTF8') as f:\n",
    "    writer = csv.writer(f)\n",
    "    writer.writerow(data)"
   ]
  },
  {
   "cell_type": "code",
   "execution_count": 30,
   "metadata": {},
   "outputs": [],
   "source": [
    "def check_price():\n",
    "    URL = 'https://www.amazon.com/Funny-Data-Systems-Business-Analyst/dp/B07FNW9FGJ/ref=sr_1_3?dchild=1&keywords=data%2Banalyst%2Btshirt&qid=1626655184&sr=8-3&customId=B0752XJYNL&th=1'\n",
    "\n",
    "    headers = {\"User-Agent\":\"Mozilla/5.0 (Windows NT 10.0; Win64; x64) AppleWebKit/537.36 (KHTML, like Gecko) Chrome/92.0.4515.159 Safari/537.36 (KHTML, like Gecko) Chrome/78.0.3904.108 Safari/537.36\", \"Accept-Encoding\":\"gzip, deflate\", \"Accept\":\"text/html,application/xhtml+xml,application/xml;q=0.9,*/*;q=0.8\", \"DNT\":\"1\",\"Connection\":\"close\", \"Upgrade-Insecure-Requests\":\"1\"}\n",
    "           \n",
    "    page = requests.get(URL, headers=headers)         \n",
    "\n",
    "    soup1 = BeautifulSoup(page.content, \"html.parser\")\n",
    "\n",
    "    soup2 =BeautifulSoup(soup1.prettify(), \"html.parser\")\n",
    "\n",
    "    title = soup2.find(id='productTitle').get_text()\n",
    "\n",
    "    price = soup2.find(id='priceblock_ourprice').get_text()\n",
    "    \n",
    "    title = title.strip()\n",
    "    price = price.strip()[1:]\n",
    "    \n",
    "    import datetime\n",
    "    today = datetime.date.today()\n",
    "   \n",
    "    import csv\n",
    "    header = ['Title', 'Price', 'Date']\n",
    "    data = [title, price, today]\n",
    "    \n",
    "    with open('AmazonWebScraperDataset.csv','a+', newline='', encoding='UTF8') as f:\n",
    "        writer = csv.writer(f)\n",
    "        writer.writerow(data)\n",
    "\n",
    "\n",
    "    "
   ]
  },
  {
   "cell_type": "code",
   "execution_count": null,
   "metadata": {},
   "outputs": [],
   "source": [
    "while(True):\n",
    "    check_price()\n",
    "    time.sleep(86400)"
   ]
  },
  {
   "cell_type": "code",
   "execution_count": 32,
   "metadata": {},
   "outputs": [
    {
     "name": "stdout",
     "output_type": "stream",
     "text": [
      "                                                Title  Price        Date\n",
      "0   Funny Got Data MIS Data Systems Business Analy...  16.99  2021-09-07\n",
      "1   Funny Got Data MIS Data Systems Business Analy...  16.99  2021-09-07\n",
      "2   Funny Got Data MIS Data Systems Business Analy...  16.99  2021-09-07\n",
      "3   Funny Got Data MIS Data Systems Business Analy...  16.99  2021-09-07\n",
      "4   Funny Got Data MIS Data Systems Business Analy...  16.99  2021-09-07\n",
      "5   Funny Got Data MIS Data Systems Business Analy...  16.99  2021-09-07\n",
      "6   Funny Got Data MIS Data Systems Business Analy...  16.99  2021-09-07\n",
      "7   Funny Got Data MIS Data Systems Business Analy...  16.99  2021-09-07\n",
      "8   Funny Got Data MIS Data Systems Business Analy...  16.99  2021-09-07\n",
      "9   Funny Got Data MIS Data Systems Business Analy...  16.99  2021-09-07\n",
      "10  Funny Got Data MIS Data Systems Business Analy...  16.99  2021-09-07\n",
      "11  Funny Got Data MIS Data Systems Business Analy...  16.99  2021-09-07\n",
      "12  Funny Got Data MIS Data Systems Business Analy...  16.99  2021-09-07\n",
      "13  Funny Got Data MIS Data Systems Business Analy...  16.99  2021-09-07\n",
      "14  Funny Got Data MIS Data Systems Business Analy...  16.99  2021-09-07\n",
      "15  Funny Got Data MIS Data Systems Business Analy...  16.99  2021-09-07\n",
      "16  Funny Got Data MIS Data Systems Business Analy...  16.99  2021-09-07\n",
      "17  Funny Got Data MIS Data Systems Business Analy...  16.99  2021-09-07\n",
      "18  Funny Got Data MIS Data Systems Business Analy...  16.99  2021-09-07\n",
      "19  Funny Got Data MIS Data Systems Business Analy...  16.99  2021-09-07\n",
      "20  Funny Got Data MIS Data Systems Business Analy...  16.99  2021-09-07\n",
      "21  Funny Got Data MIS Data Systems Business Analy...  16.99  2021-09-07\n",
      "22  Funny Got Data MIS Data Systems Business Analy...  16.99  2021-09-07\n",
      "23  Funny Got Data MIS Data Systems Business Analy...  16.99  2021-09-07\n",
      "24  Funny Got Data MIS Data Systems Business Analy...  16.99  2021-09-07\n",
      "25  Funny Got Data MIS Data Systems Business Analy...  16.99  2021-09-07\n",
      "26  Funny Got Data MIS Data Systems Business Analy...  16.99  2021-09-07\n",
      "27  Funny Got Data MIS Data Systems Business Analy...  16.99  2021-09-07\n",
      "28  Funny Got Data MIS Data Systems Business Analy...  16.99  2021-09-07\n",
      "29  Funny Got Data MIS Data Systems Business Analy...  16.99  2021-09-07\n",
      "30  Funny Got Data MIS Data Systems Business Analy...  16.99  2021-09-07\n",
      "31  Funny Got Data MIS Data Systems Business Analy...  16.99  2021-09-07\n",
      "32  Funny Got Data MIS Data Systems Business Analy...  16.99  2021-09-07\n",
      "33  Funny Got Data MIS Data Systems Business Analy...  16.99  2021-09-07\n",
      "34  Funny Got Data MIS Data Systems Business Analy...  16.99  2021-09-07\n",
      "35  Funny Got Data MIS Data Systems Business Analy...  16.99  2021-09-07\n",
      "36  Funny Got Data MIS Data Systems Business Analy...  16.99  2021-09-07\n",
      "37  Funny Got Data MIS Data Systems Business Analy...  16.99  2021-09-07\n",
      "38  Funny Got Data MIS Data Systems Business Analy...  16.99  2021-09-07\n",
      "39  Funny Got Data MIS Data Systems Business Analy...  16.99  2021-09-07\n",
      "40  Funny Got Data MIS Data Systems Business Analy...  16.99  2021-09-07\n",
      "41  Funny Got Data MIS Data Systems Business Analy...  16.99  2021-09-07\n",
      "42  Funny Got Data MIS Data Systems Business Analy...  16.99  2021-09-07\n",
      "43  Funny Got Data MIS Data Systems Business Analy...  16.99  2021-09-07\n",
      "44  Funny Got Data MIS Data Systems Business Analy...  16.99  2021-09-07\n"
     ]
    }
   ],
   "source": [
    "import pandas as pd\n",
    "df = pd.read_csv('D:\\Ice\\python_udemy\\Portfolio Project\\AmazonWebScraperDataset.csv')\n",
    "print(df)"
   ]
  },
  {
   "cell_type": "code",
   "execution_count": null,
   "metadata": {},
   "outputs": [],
   "source": []
  }
 ],
 "metadata": {
  "kernelspec": {
   "display_name": "Python 3",
   "language": "python",
   "name": "python3"
  },
  "language_info": {
   "codemirror_mode": {
    "name": "ipython",
    "version": 3
   },
   "file_extension": ".py",
   "mimetype": "text/x-python",
   "name": "python",
   "nbconvert_exporter": "python",
   "pygments_lexer": "ipython3",
   "version": "3.7.6"
  }
 },
 "nbformat": 4,
 "nbformat_minor": 4
}
