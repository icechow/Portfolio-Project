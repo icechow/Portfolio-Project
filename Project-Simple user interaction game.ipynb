{
 "cells": [
  {
   "cell_type": "code",
   "execution_count": 12,
   "metadata": {},
   "outputs": [],
   "source": [
    "game_list = [0,1,2]"
   ]
  },
  {
   "cell_type": "code",
   "execution_count": 2,
   "metadata": {},
   "outputs": [],
   "source": [
    "def display_game(game_list):\n",
    "    print(\"Here is the current list: \")\n",
    "    print (game_list)"
   ]
  },
  {
   "cell_type": "code",
   "execution_count": 14,
   "metadata": {},
   "outputs": [
    {
     "name": "stdout",
     "output_type": "stream",
     "text": [
      "Here is the current list: \n",
      "[0, 1, 2]\n"
     ]
    }
   ],
   "source": [
    "display_game (game_list)"
   ]
  },
  {
   "cell_type": "code",
   "execution_count": 4,
   "metadata": {},
   "outputs": [],
   "source": [
    "def position_choice():\n",
    "    choice = 'wrong'\n",
    "    while choice not in ['0','1','2']:\n",
    "        choice  = input (\"Pick a position (0,1,2):\")\n",
    "        \n",
    "        if choice not in ['0','1','2']:\n",
    "            print (\"Sorry, wrong choice!\")\n",
    "    return int(choice)"
   ]
  },
  {
   "cell_type": "code",
   "execution_count": null,
   "metadata": {},
   "outputs": [],
   "source": [
    "position_choice()"
   ]
  },
  {
   "cell_type": "code",
   "execution_count": 5,
   "metadata": {},
   "outputs": [],
   "source": [
    "def replacement_choice (game_list, position):\n",
    "    user_replacement = input (\"Type a string to place at position: \")\n",
    "    game_list [position] = user_replacement\n",
    "    return (game_list)"
   ]
  },
  {
   "cell_type": "code",
   "execution_count": 18,
   "metadata": {},
   "outputs": [
    {
     "name": "stdout",
     "output_type": "stream",
     "text": [
      "Type a string to place at position: hi\n"
     ]
    },
    {
     "data": {
      "text/plain": [
       "[0, 1, 'hi']"
      ]
     },
     "execution_count": 18,
     "metadata": {},
     "output_type": "execute_result"
    }
   ],
   "source": [
    "replacement_choice (game_list, 2)"
   ]
  },
  {
   "cell_type": "code",
   "execution_count": 6,
   "metadata": {},
   "outputs": [],
   "source": [
    "def gameon_choice():\n",
    "    choice = 'wrong'\n",
    "    while choice not in  ['Y', 'N']:\n",
    "        choice  = input (\"Keep playing? (N or Y)\")\n",
    "        \n",
    "        if choice not in ['Y', 'N']:\n",
    "            print (\"Sorry, wrong choice!\")\n",
    "\n",
    "    if choice == \"Y\":\n",
    "        return True\n",
    "    else:\n",
    "        return False"
   ]
  },
  {
   "cell_type": "code",
   "execution_count": 20,
   "metadata": {},
   "outputs": [
    {
     "name": "stdout",
     "output_type": "stream",
     "text": [
      "Keep playing? (N or Y)Y\n"
     ]
    },
    {
     "data": {
      "text/plain": [
       "True"
      ]
     },
     "execution_count": 20,
     "metadata": {},
     "output_type": "execute_result"
    }
   ],
   "source": [
    "gameon_choice()"
   ]
  },
  {
   "cell_type": "code",
   "execution_count": 7,
   "metadata": {},
   "outputs": [
    {
     "name": "stdout",
     "output_type": "stream",
     "text": [
      "Here is the current list: \n",
      "[0, 1, 2]\n",
      "Pick a position (0,1,2):4\n",
      "Sorry, wrong choice!\n",
      "Pick a position (0,1,2):2\n",
      "Type a string to place at position: hi\n",
      "Here is the current list: \n",
      "[0, 1, 'hi']\n",
      "Keep playing? (N or Y)yyu\n",
      "Sorry, wrong choice!\n",
      "Keep playing? (N or Y)Y\n",
      "Here is the current list: \n",
      "[0, 1, 'hi']\n",
      "Pick a position (0,1,2):1\n",
      "Type a string to place at position: fuck\n",
      "Here is the current list: \n",
      "[0, 'fuck', 'hi']\n",
      "Keep playing? (N or Y)N\n"
     ]
    }
   ],
   "source": [
    "game_on = True\n",
    "game_list = [0,1,2]\n",
    "\n",
    "while game_on:\n",
    "    \n",
    "    display_game (game_list)\n",
    "    position = position_choice()\n",
    "    game_list = replacement_choice (game_list, position)\n",
    "    display_game(game_list)\n",
    "    \n",
    "    game_on = gameon_choice()"
   ]
  },
  {
   "cell_type": "code",
   "execution_count": null,
   "metadata": {},
   "outputs": [],
   "source": []
  },
  {
   "cell_type": "code",
   "execution_count": 9,
   "metadata": {},
   "outputs": [],
   "source": [
    "from IPython.display import clear_output\n",
    "\n",
    "def display_board(board):\n",
    "    clear_output()\n",
    "    \n",
    "    print('   '+board[10]+'  |  '+board[11]+'  |  '+board[12]+' ')\n",
    "    print('   '+board[7]+'  |  '+board[8]+'  |  '+board[9]+' ')\n",
    "    print('   '+board[14]+'  |  '+board[15]+'  |  '+board[16]+' ')\n",
    "    print('--------------------')\n",
    "    \n",
    "    print('   '+board[18]+'  |  '+board[19]+'  |  '+board[20]+' ')\n",
    "    print('   '+board[4]+'  |  '+board[5]+'  |  '+board[6]+' ')\n",
    "    print('   '+board[21]+'  |  '+board[22]+'  |  '+board[23]+' ')\n",
    "    print('--------------------')\n",
    "  \n",
    "    print('   '+board[24]+'  |  '+board[25]+'  |  '+board[26]+' ')\n",
    "    print('   '+board[1]+'  |  '+board[2]+'  |  '+board[3]+' ')\n",
    "    print('   '+board[27]+'  |  '+board[28]+'  |  '+board[29]+' ')\n",
    "   "
   ]
  },
  {
   "cell_type": "code",
   "execution_count": 10,
   "metadata": {},
   "outputs": [
    {
     "name": "stdout",
     "output_type": "stream",
     "text": [
      "      |     |    \n",
      "      |     |    \n",
      "      |     |    \n",
      "--------------------\n",
      "      |     |    \n",
      "      |     |    \n",
      "      |     |    \n",
      "--------------------\n",
      "      |     |    \n",
      "      |     |    \n",
      "      |     |    \n"
     ]
    }
   ],
   "source": [
    "test_board = [' ']*30\n",
    "display_board(test_board)"
   ]
  },
  {
   "cell_type": "code",
   "execution_count": 11,
   "metadata": {},
   "outputs": [],
   "source": [
    "def player_input():\n",
    "    \n",
    "    marker = ' '\n",
    "    while marker not in ['X', 'O']: \n",
    "        marker = input(\"Player1, Please pick a marker 'X' or 'O': \")\n",
    "    \n",
    "    player1 = marker\n",
    "        \n",
    "    if player1 == 'X':\n",
    "            player2 = 'O'\n",
    "    else:\n",
    "            player2 = 'X'\n",
    "        \n",
    "    return (player1, player2)"
   ]
  },
  {
   "cell_type": "code",
   "execution_count": 4,
   "metadata": {},
   "outputs": [
    {
     "name": "stdout",
     "output_type": "stream",
     "text": [
      "Player1, Please pick a marker 'X' or 'O': X\n"
     ]
    },
    {
     "data": {
      "text/plain": [
       "('X', 'O')"
      ]
     },
     "execution_count": 4,
     "metadata": {},
     "output_type": "execute_result"
    }
   ],
   "source": [
    "player_input()"
   ]
  },
  {
   "cell_type": "code",
   "execution_count": 12,
   "metadata": {},
   "outputs": [
    {
     "name": "stdout",
     "output_type": "stream",
     "text": [
      "Player1, Please pick a marker 'X' or 'O': X\n"
     ]
    }
   ],
   "source": [
    "player1_marker, player2_marker = player_input()"
   ]
  },
  {
   "cell_type": "code",
   "execution_count": 14,
   "metadata": {},
   "outputs": [
    {
     "data": {
      "text/plain": [
       "'X'"
      ]
     },
     "execution_count": 14,
     "metadata": {},
     "output_type": "execute_result"
    }
   ],
   "source": [
    "player1_marker"
   ]
  },
  {
   "cell_type": "code",
   "execution_count": 15,
   "metadata": {},
   "outputs": [],
   "source": [
    "def place_marker(board, marker, position):\n",
    "    board[position] = marker"
   ]
  },
  {
   "cell_type": "code",
   "execution_count": 16,
   "metadata": {},
   "outputs": [
    {
     "name": "stdout",
     "output_type": "stream",
     "text": [
      "      |     |    \n",
      "   X  |     |    \n",
      "      |     |    \n",
      "--------------------\n",
      "      |     |    \n",
      "      |     |    \n",
      "      |     |    \n",
      "--------------------\n",
      "      |     |    \n",
      "      |     |    \n",
      "      |     |    \n"
     ]
    }
   ],
   "source": [
    "place_marker(test_board, 'X', 7)\n",
    "display_board (test_board)"
   ]
  },
  {
   "cell_type": "code",
   "execution_count": 17,
   "metadata": {},
   "outputs": [],
   "source": [
    "def win_check(board, mark):\n",
    "    return ((board[7] == mark and board[8] == mark and board[9] ==mark) or \n",
    "            (board [4] == mark and board [5] == mark and board[6] == mark) or\n",
    "            (board [1] ==mark and board[2] == mark and board[3] == mark) or \n",
    "            (board [7] ==mark and board[4] == mark and board[1] == mark) or\n",
    "            (board [2] ==mark and board[5] == mark and board[8] == mark) or\n",
    "           (board [3] ==mark and board[6] == mark and board[9] == mark) or\n",
    "           (board [1] ==mark and board[5] == mark and board[9] == mark) or\n",
    "           (board [3] ==mark and board[5] == mark and board[7] == mark))"
   ]
  },
  {
   "cell_type": "code",
   "execution_count": null,
   "metadata": {},
   "outputs": [],
   "source": [
    "\n",
    "win_check(test_board,'X')"
   ]
  },
  {
   "cell_type": "code",
   "execution_count": 18,
   "metadata": {},
   "outputs": [],
   "source": [
    "import random\n",
    "def choose_first():\n",
    "     if random.randint(0,1) == 0:\n",
    "        return 'Player 2'\n",
    "     else:\n",
    "        return 'Player 1'"
   ]
  },
  {
   "cell_type": "code",
   "execution_count": 19,
   "metadata": {},
   "outputs": [],
   "source": [
    "def space_check(board, position):\n",
    "    \n",
    "    return board[position] == ' '"
   ]
  },
  {
   "cell_type": "code",
   "execution_count": 20,
   "metadata": {},
   "outputs": [],
   "source": [
    "def full_board_check(board):\n",
    "    for i in range(1,10):\n",
    "        if space_check(board, i):\n",
    "            return False\n",
    "    return True\n",
    "        "
   ]
  },
  {
   "cell_type": "code",
   "execution_count": 19,
   "metadata": {},
   "outputs": [
    {
     "data": {
      "text/plain": [
       "True"
      ]
     },
     "execution_count": 19,
     "metadata": {},
     "output_type": "execute_result"
    }
   ],
   "source": [
    "space_check(test_board, 3)"
   ]
  },
  {
   "cell_type": "code",
   "execution_count": 21,
   "metadata": {},
   "outputs": [],
   "source": [
    "def player_choice(board):\n",
    "    position = 0\n",
    "    \n",
    "    while position not in [1,2,3,4,5,6,7,8,9] or not space_check(board, position):\n",
    "        \n",
    "        position = int(input(\"Choose your position: (1 - 9) \"))\n",
    "    return position"
   ]
  },
  {
   "cell_type": "code",
   "execution_count": null,
   "metadata": {},
   "outputs": [],
   "source": [
    "player_choice(test_board)"
   ]
  },
  {
   "cell_type": "code",
   "execution_count": 22,
   "metadata": {},
   "outputs": [],
   "source": [
    "def replay():\n",
    "    return input ('Do you want to play again? Enter Yes or No: ').lower().startswith('y')"
   ]
  },
  {
   "cell_type": "code",
   "execution_count": 23,
   "metadata": {},
   "outputs": [
    {
     "name": "stdout",
     "output_type": "stream",
     "text": [
      "      |     |    \n",
      "      |     |  O \n",
      "      |     |    \n",
      "--------------------\n",
      "      |     |    \n",
      "   X  |  X  |  X \n",
      "      |     |    \n",
      "--------------------\n",
      "      |     |    \n",
      "      |  O  |    \n",
      "      |     |    \n",
      "Congratulations! You have won the game!\n",
      "Do you want to play again? Enter Yes or No: i\n"
     ]
    }
   ],
   "source": [
    "print('Welcome to Tic Tac Toe!')\n",
    "\n",
    "while True:\n",
    "    theBoard = [' '] *30\n",
    "    player1_marker, player2_marker = player_input()\n",
    "    turn = choose_first()\n",
    "    print(turn +' will go first.')\n",
    "    \n",
    "    play_game = input('Are you ready to play? Enter Yes or No.')\n",
    "    \n",
    "    if play_game.lower()[0] == 'y':\n",
    "        game_on = True\n",
    "    else:\n",
    "        game_on = False\n",
    "        \n",
    "    while game_on:\n",
    "        if turn == 'Player 1':\n",
    "            display_board(theBoard)\n",
    "            position  = player_choice(theBoard)\n",
    "            place_marker(theBoard, player1_marker, position)\n",
    "             \n",
    "            if win_check(theBoard, player1_marker):\n",
    "                display_board(theBoard)\n",
    "                print('Congratulations! You have won the game!')\n",
    "            \n",
    "                game_on = False\n",
    "            \n",
    "            else:\n",
    "                if full_board_check(theBoard):\n",
    "                    display_board(theBoard)\n",
    "                    print('The game is a draw!')\n",
    "                    break\n",
    "                else:\n",
    "                    turn = 'player 2'\n",
    "                    \n",
    "        else:\n",
    "            \n",
    "            display_board(theBoard)\n",
    "            position = player_choice(theBoard)\n",
    "            place_marker(theBoard, player2_marker, position)\n",
    "\n",
    "            if win_check(theBoard, player2_marker):\n",
    "                display_board(theBoard)\n",
    "                print('Player 2 has won!')\n",
    "                game_on = False\n",
    "            else:\n",
    "                if full_board_check(theBoard):\n",
    "                    display_board(theBoard)\n",
    "                    print('The game is a draw!')\n",
    "                    break\n",
    "                else:\n",
    "                    turn = 'Player 1'\n",
    "\n",
    "    if not replay():\n",
    "        break\n",
    "                \n",
    "            \n",
    "    \n",
    "    "
   ]
  },
  {
   "cell_type": "code",
   "execution_count": null,
   "metadata": {},
   "outputs": [],
   "source": []
  }
 ],
 "metadata": {
  "kernelspec": {
   "display_name": "Python 3",
   "language": "python",
   "name": "python3"
  },
  "language_info": {
   "codemirror_mode": {
    "name": "ipython",
    "version": 3
   },
   "file_extension": ".py",
   "mimetype": "text/x-python",
   "name": "python",
   "nbconvert_exporter": "python",
   "pygments_lexer": "ipython3",
   "version": "3.7.6"
  }
 },
 "nbformat": 4,
 "nbformat_minor": 4
}
